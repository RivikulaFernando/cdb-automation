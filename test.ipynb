{
 "cells": [
  {
   "cell_type": "code",
   "execution_count": null,
   "metadata": {},
   "outputs": [
    {
     "name": "stderr",
     "output_type": "stream",
     "text": [
      "Neither CUDA nor MPS are available - defaulting to CPU. Note: This module is much faster with a GPU.\n"
     ]
    }
   ],
   "source": [
    "from vision import detect_number_plate\n",
    "# from ocr import recognize_license_plate"
   ]
  },
  {
   "cell_type": "code",
   "execution_count": null,
   "metadata": {},
   "outputs": [
    {
     "name": "stderr",
     "output_type": "stream",
     "text": [
      "Neither CUDA nor MPS are available - defaulting to CPU. Note: This module is much faster with a GPU.\n"
     ]
    }
   ],
   "source": [
    "import easyocr\n",
    "import cv2\n",
    "import numpy as np\n",
    "import re\n",
    "\n",
    "reader = easyocr.Reader([\"en\"])\n"
   ]
  },
  {
   "cell_type": "code",
   "execution_count": 53,
   "metadata": {},
   "outputs": [],
   "source": [
    "x,y,width,height,confidence = detect_number_plate(\"car1.jpg\")"
   ]
  },
  {
   "cell_type": "code",
   "execution_count": 54,
   "metadata": {},
   "outputs": [],
   "source": [
    "def recognize_license_plate(image_path, x, y, w, h, padding_x=15, padding_y=10):\n",
    "    \"\"\"Crops the license plate from the image, preprocesses it, extracts the text, and plots the detection.\"\"\"\n",
    "    # Load image\n",
    "    image = cv2.imread(image_path)\n",
    "\n",
    "    # Calculate coordinates with padding\n",
    "    x_min, y_min = max(0, int(x - w / 2) - padding_x), max(0,\n",
    "                                                           int(y - h / 2) - padding_y)\n",
    "    x_max, y_max = min(image.shape[1], int(\n",
    "        x + w / 2) + padding_x), min(image.shape[0], int(y + h / 2) + padding_y)\n",
    "\n",
    "    # Extract the license plate area\n",
    "    license_plate_img = image[y_min:y_max, x_min:x_max]\n",
    "\n",
    "    # Convert to grayscale and apply adaptive threshold\n",
    "    gray_plate = cv2.cvtColor(license_plate_img, cv2.COLOR_BGR2GRAY)\n",
    "    gray_plate = cv2.adaptiveThreshold(\n",
    "        gray_plate, 255, cv2.ADAPTIVE_THRESH_GAUSSIAN_C, cv2.THRESH_BINARY_INV, 11, 2\n",
    "    )\n",
    "\n",
    "    # Try different scales for better recognition\n",
    "    plate_number = \"\"\n",
    "    for scale in [1.0, 1.5, 2]:\n",
    "        resized = cv2.resize(gray_plate, None, fx=scale,\n",
    "                             fy=scale, interpolation=cv2.INTER_CUBIC)\n",
    "        result_text = reader.readtext(resized, detail=0)\n",
    "        if result_text:\n",
    "            plate_number = \" \".join(result_text)\n",
    "            break\n",
    "\n",
    "    # Clean and format the plate number\n",
    "    plate_number = plate_number.upper()\n",
    "    # Remove unwanted characters\n",
    "    plate_number = re.sub(r\"[^A-Z0-9 ]\", \"\", plate_number)\n",
    "    plate_number = re.sub(r\"\\s+\", \" \", plate_number).strip()  # Fix spaces\n",
    "\n",
    "    plate_number_list = plate_number.split()\n",
    "    plate_number = \"-\".join(plate_number_list[-2:])\n",
    "\n",
    "    # If the result seems invalid, return \"NOT DETECTED\"\n",
    "    if len(plate_number) < 7 or not any(char.isdigit() for char in plate_number):\n",
    "        plate_number = \"NOT DETECTED\"\n",
    "\n",
    "    return plate_number"
   ]
  },
  {
   "cell_type": "code",
   "execution_count": 56,
   "metadata": {},
   "outputs": [
    {
     "data": {
      "text/plain": [
       "'CAO-2387'"
      ]
     },
     "execution_count": 56,
     "metadata": {},
     "output_type": "execute_result"
    }
   ],
   "source": [
    "recognize_license_plate(\"car1.jpg\", x, y, width, height,0,0)"
   ]
  },
  {
   "cell_type": "code",
   "execution_count": null,
   "metadata": {},
   "outputs": [],
   "source": []
  }
 ],
 "metadata": {
  "kernelspec": {
   "display_name": "ml",
   "language": "python",
   "name": "python3"
  },
  "language_info": {
   "codemirror_mode": {
    "name": "ipython",
    "version": 3
   },
   "file_extension": ".py",
   "mimetype": "text/x-python",
   "name": "python",
   "nbconvert_exporter": "python",
   "pygments_lexer": "ipython3",
   "version": "3.12.8"
  }
 },
 "nbformat": 4,
 "nbformat_minor": 2
}
