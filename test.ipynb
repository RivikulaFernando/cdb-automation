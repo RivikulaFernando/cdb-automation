{
 "cells": [
  {
   "cell_type": "code",
   "execution_count": 1,
   "metadata": {},
   "outputs": [],
   "source": [
    "from vision import get_verification_numbers"
   ]
  },
  {
   "cell_type": "code",
   "execution_count": 8,
   "metadata": {},
   "outputs": [
    {
     "ename": "HTTPCallErrorError",
     "evalue": "HTTPCallErrorError(description='400 Client Error: Bad Request for url: http://localhost:9001/vehicle-detection-bpir9/workflows/vehicle-identification-numbers', api_message='Failed to assemble `image`. Could not successfully use any deserializer for declared kinds. Details: \nKind: `image` - Error: Detected runtime parameter `image` defined as `WorkflowImage` that is invalid. Failed on input validation. Details: NumPy image type is not supported in this configuration of `inference`.. More details: None',status_code=400)",
     "output_type": "error",
     "traceback": [
      "\u001b[1;31m---------------------------------------------------------------------------\u001b[0m",
      "\u001b[1;31mHTTPError\u001b[0m                                 Traceback (most recent call last)",
      "File \u001b[1;32mc:\\Users\\Rivikula Fernando\\AppData\\Local\\Programs\\Python\\Python312\\Lib\\site-packages\\inference_sdk\\http\\client.py:94\u001b[0m, in \u001b[0;36mwrap_errors.<locals>.decorate\u001b[1;34m(*args, **kwargs)\u001b[0m\n\u001b[0;32m     93\u001b[0m \u001b[38;5;28;01mtry\u001b[39;00m:\n\u001b[1;32m---> 94\u001b[0m     \u001b[38;5;28;01mreturn\u001b[39;00m \u001b[43mfunction\u001b[49m\u001b[43m(\u001b[49m\u001b[38;5;241;43m*\u001b[39;49m\u001b[43margs\u001b[49m\u001b[43m,\u001b[49m\u001b[43m \u001b[49m\u001b[38;5;241;43m*\u001b[39;49m\u001b[38;5;241;43m*\u001b[39;49m\u001b[43mkwargs\u001b[49m\u001b[43m)\u001b[49m\n\u001b[0;32m     95\u001b[0m \u001b[38;5;28;01mexcept\u001b[39;00m HTTPError \u001b[38;5;28;01mas\u001b[39;00m error:\n",
      "File \u001b[1;32mc:\\Users\\Rivikula Fernando\\AppData\\Local\\Programs\\Python\\Python312\\Lib\\site-packages\\inference_sdk\\http\\client.py:1501\u001b[0m, in \u001b[0;36mInferenceHTTPClient.run_workflow\u001b[1;34m(self, workspace_name, workflow_id, specification, images, parameters, excluded_fields, use_cache, enable_profiling)\u001b[0m\n\u001b[0;32m   1462\u001b[0m \u001b[38;5;250m\u001b[39m\u001b[38;5;124;03m\"\"\"Run inference using a workflow specification.\u001b[39;00m\n\u001b[0;32m   1463\u001b[0m \n\u001b[0;32m   1464\u001b[0m \u001b[38;5;124;03mTriggers inference from workflow specification at the inference HTTP\u001b[39;00m\n\u001b[1;32m   (...)\u001b[0m\n\u001b[0;32m   1499\u001b[0m \u001b[38;5;124;03m    HTTPClientError: If there is an error with the server connection.\u001b[39;00m\n\u001b[0;32m   1500\u001b[0m \u001b[38;5;124;03m\"\"\"\u001b[39;00m\n\u001b[1;32m-> 1501\u001b[0m \u001b[38;5;28;01mreturn\u001b[39;00m \u001b[38;5;28;43mself\u001b[39;49m\u001b[38;5;241;43m.\u001b[39;49m\u001b[43m_run_workflow\u001b[49m\u001b[43m(\u001b[49m\n\u001b[0;32m   1502\u001b[0m \u001b[43m    \u001b[49m\u001b[43mworkspace_name\u001b[49m\u001b[38;5;241;43m=\u001b[39;49m\u001b[43mworkspace_name\u001b[49m\u001b[43m,\u001b[49m\n\u001b[0;32m   1503\u001b[0m \u001b[43m    \u001b[49m\u001b[43mworkflow_id\u001b[49m\u001b[38;5;241;43m=\u001b[39;49m\u001b[43mworkflow_id\u001b[49m\u001b[43m,\u001b[49m\n\u001b[0;32m   1504\u001b[0m \u001b[43m    \u001b[49m\u001b[43mspecification\u001b[49m\u001b[38;5;241;43m=\u001b[39;49m\u001b[43mspecification\u001b[49m\u001b[43m,\u001b[49m\n\u001b[0;32m   1505\u001b[0m \u001b[43m    \u001b[49m\u001b[43mimages\u001b[49m\u001b[38;5;241;43m=\u001b[39;49m\u001b[43mimages\u001b[49m\u001b[43m,\u001b[49m\n\u001b[0;32m   1506\u001b[0m \u001b[43m    \u001b[49m\u001b[43mparameters\u001b[49m\u001b[38;5;241;43m=\u001b[39;49m\u001b[43mparameters\u001b[49m\u001b[43m,\u001b[49m\n\u001b[0;32m   1507\u001b[0m \u001b[43m    \u001b[49m\u001b[43mexcluded_fields\u001b[49m\u001b[38;5;241;43m=\u001b[39;49m\u001b[43mexcluded_fields\u001b[49m\u001b[43m,\u001b[49m\n\u001b[0;32m   1508\u001b[0m \u001b[43m    \u001b[49m\u001b[43mlegacy_endpoints\u001b[49m\u001b[38;5;241;43m=\u001b[39;49m\u001b[38;5;28;43;01mFalse\u001b[39;49;00m\u001b[43m,\u001b[49m\n\u001b[0;32m   1509\u001b[0m \u001b[43m    \u001b[49m\u001b[43muse_cache\u001b[49m\u001b[38;5;241;43m=\u001b[39;49m\u001b[43muse_cache\u001b[49m\u001b[43m,\u001b[49m\n\u001b[0;32m   1510\u001b[0m \u001b[43m    \u001b[49m\u001b[43menable_profiling\u001b[49m\u001b[38;5;241;43m=\u001b[39;49m\u001b[43menable_profiling\u001b[49m\u001b[43m,\u001b[49m\n\u001b[0;32m   1511\u001b[0m \u001b[43m\u001b[49m\u001b[43m)\u001b[49m\n",
      "File \u001b[1;32mc:\\Users\\Rivikula Fernando\\AppData\\Local\\Programs\\Python\\Python312\\Lib\\site-packages\\inference_sdk\\http\\client.py:1573\u001b[0m, in \u001b[0;36mInferenceHTTPClient._run_workflow\u001b[1;34m(self, workspace_name, workflow_id, specification, images, parameters, excluded_fields, legacy_endpoints, use_cache, enable_profiling)\u001b[0m\n\u001b[0;32m   1568\u001b[0m response \u001b[38;5;241m=\u001b[39m requests\u001b[38;5;241m.\u001b[39mpost(\n\u001b[0;32m   1569\u001b[0m     url,\n\u001b[0;32m   1570\u001b[0m     json\u001b[38;5;241m=\u001b[39mpayload,\n\u001b[0;32m   1571\u001b[0m     headers\u001b[38;5;241m=\u001b[39mDEFAULT_HEADERS,\n\u001b[0;32m   1572\u001b[0m )\n\u001b[1;32m-> 1573\u001b[0m \u001b[43mapi_key_safe_raise_for_status\u001b[49m\u001b[43m(\u001b[49m\u001b[43mresponse\u001b[49m\u001b[38;5;241;43m=\u001b[39;49m\u001b[43mresponse\u001b[49m\u001b[43m)\u001b[49m\n\u001b[0;32m   1574\u001b[0m response_data \u001b[38;5;241m=\u001b[39m response\u001b[38;5;241m.\u001b[39mjson()\n",
      "File \u001b[1;32mc:\\Users\\Rivikula Fernando\\AppData\\Local\\Programs\\Python\\Python312\\Lib\\site-packages\\inference_sdk\\http\\utils\\requests.py:21\u001b[0m, in \u001b[0;36mapi_key_safe_raise_for_status\u001b[1;34m(response)\u001b[0m\n\u001b[0;32m     20\u001b[0m response\u001b[38;5;241m.\u001b[39murl \u001b[38;5;241m=\u001b[39m deduct_api_key_from_string(value\u001b[38;5;241m=\u001b[39mresponse\u001b[38;5;241m.\u001b[39murl)\n\u001b[1;32m---> 21\u001b[0m \u001b[43mresponse\u001b[49m\u001b[38;5;241;43m.\u001b[39;49m\u001b[43mraise_for_status\u001b[49m\u001b[43m(\u001b[49m\u001b[43m)\u001b[49m\n",
      "File \u001b[1;32mc:\\Users\\Rivikula Fernando\\AppData\\Local\\Programs\\Python\\Python312\\Lib\\site-packages\\requests\\models.py:1024\u001b[0m, in \u001b[0;36mResponse.raise_for_status\u001b[1;34m(self)\u001b[0m\n\u001b[0;32m   1023\u001b[0m \u001b[38;5;28;01mif\u001b[39;00m http_error_msg:\n\u001b[1;32m-> 1024\u001b[0m     \u001b[38;5;28;01mraise\u001b[39;00m HTTPError(http_error_msg, response\u001b[38;5;241m=\u001b[39m\u001b[38;5;28mself\u001b[39m)\n",
      "\u001b[1;31mHTTPError\u001b[0m: 400 Client Error: Bad Request for url: http://localhost:9001/vehicle-detection-bpir9/workflows/vehicle-identification-numbers",
      "\nThe above exception was the direct cause of the following exception:\n",
      "\u001b[1;31mHTTPCallErrorError\u001b[0m                        Traceback (most recent call last)",
      "Cell \u001b[1;32mIn[8], line 1\u001b[0m\n\u001b[1;32m----> 1\u001b[0m result \u001b[38;5;241m=\u001b[39m \u001b[43mget_verification_numbers\u001b[49m\u001b[43m(\u001b[49m\u001b[38;5;124;43m'\u001b[39;49m\u001b[38;5;124;43mverification_numbers.jpg\u001b[39;49m\u001b[38;5;124;43m'\u001b[39;49m\u001b[43m)\u001b[49m\n",
      "File \u001b[1;32mc:\\cdb-automation\\vision.py:69\u001b[0m, in \u001b[0;36mget_verification_numbers\u001b[1;34m(image_path)\u001b[0m\n\u001b[0;32m     68\u001b[0m \u001b[38;5;28;01mdef\u001b[39;00m \u001b[38;5;21mget_verification_numbers\u001b[39m(image_path):\n\u001b[1;32m---> 69\u001b[0m     result \u001b[38;5;241m=\u001b[39m \u001b[43mclient\u001b[49m\u001b[38;5;241;43m.\u001b[39;49m\u001b[43mrun_workflow\u001b[49m\u001b[43m(\u001b[49m\n\u001b[0;32m     70\u001b[0m \u001b[43m        \u001b[49m\u001b[43mworkflow_id\u001b[49m\u001b[38;5;241;43m=\u001b[39;49m\u001b[38;5;124;43m\"\u001b[39;49m\u001b[38;5;124;43mvehicle-identification-numbers\u001b[39;49m\u001b[38;5;124;43m\"\u001b[39;49m\u001b[43m,\u001b[49m\n\u001b[0;32m     71\u001b[0m \u001b[43m        \u001b[49m\u001b[43mworkspace_name\u001b[49m\u001b[38;5;241;43m=\u001b[39;49m\u001b[43mWORKSPACE\u001b[49m\u001b[43m,\u001b[49m\n\u001b[0;32m     72\u001b[0m \u001b[43m        \u001b[49m\u001b[43mimages\u001b[49m\u001b[38;5;241;43m=\u001b[39;49m\u001b[43m{\u001b[49m\n\u001b[0;32m     73\u001b[0m \u001b[43m            \u001b[49m\u001b[38;5;124;43m\"\u001b[39;49m\u001b[38;5;124;43mimage\u001b[39;49m\u001b[38;5;124;43m\"\u001b[39;49m\u001b[43m:\u001b[49m\u001b[43m \u001b[49m\u001b[43mimage_path\u001b[49m\n\u001b[0;32m     74\u001b[0m \u001b[43m        \u001b[49m\u001b[43m}\u001b[49m\n\u001b[0;32m     75\u001b[0m \u001b[43m    \u001b[49m\u001b[43m)\u001b[49m\n\u001b[0;32m     77\u001b[0m     predictions \u001b[38;5;241m=\u001b[39m result[\u001b[38;5;241m0\u001b[39m][\u001b[38;5;124m'\u001b[39m\u001b[38;5;124midentification_numbers\u001b[39m\u001b[38;5;124m'\u001b[39m]\n\u001b[0;32m     78\u001b[0m     engine_number \u001b[38;5;241m=\u001b[39m predictions[\u001b[38;5;124m\"\u001b[39m\u001b[38;5;124mengine_no\u001b[39m\u001b[38;5;124m\"\u001b[39m]\n",
      "File \u001b[1;32mc:\\Users\\Rivikula Fernando\\AppData\\Local\\Programs\\Python\\Python312\\Lib\\site-packages\\inference_sdk\\http\\client.py:104\u001b[0m, in \u001b[0;36mwrap_errors.<locals>.decorate\u001b[1;34m(*args, **kwargs)\u001b[0m\n\u001b[0;32m    102\u001b[0m     \u001b[38;5;28;01melse\u001b[39;00m:\n\u001b[0;32m    103\u001b[0m         api_message \u001b[38;5;241m=\u001b[39m error\u001b[38;5;241m.\u001b[39mresponse\u001b[38;5;241m.\u001b[39mtext\n\u001b[1;32m--> 104\u001b[0m     \u001b[38;5;28;01mraise\u001b[39;00m HTTPCallErrorError(\n\u001b[0;32m    105\u001b[0m         description\u001b[38;5;241m=\u001b[39m\u001b[38;5;28mstr\u001b[39m(error),\n\u001b[0;32m    106\u001b[0m         status_code\u001b[38;5;241m=\u001b[39merror\u001b[38;5;241m.\u001b[39mresponse\u001b[38;5;241m.\u001b[39mstatus_code,\n\u001b[0;32m    107\u001b[0m         api_message\u001b[38;5;241m=\u001b[39mapi_message,\n\u001b[0;32m    108\u001b[0m     ) \u001b[38;5;28;01mfrom\u001b[39;00m \u001b[38;5;21;01merror\u001b[39;00m\n\u001b[0;32m    109\u001b[0m \u001b[38;5;28;01mexcept\u001b[39;00m \u001b[38;5;167;01mConnectionError\u001b[39;00m \u001b[38;5;28;01mas\u001b[39;00m error:\n\u001b[0;32m    110\u001b[0m     \u001b[38;5;28;01mraise\u001b[39;00m HTTPClientError(\n\u001b[0;32m    111\u001b[0m         \u001b[38;5;124mf\u001b[39m\u001b[38;5;124m\"\u001b[39m\u001b[38;5;124mError with server connection: \u001b[39m\u001b[38;5;132;01m{\u001b[39;00mdeduct_api_key_from_string(\u001b[38;5;28mstr\u001b[39m(error))\u001b[38;5;132;01m}\u001b[39;00m\u001b[38;5;124m\"\u001b[39m\n\u001b[0;32m    112\u001b[0m     ) \u001b[38;5;28;01mfrom\u001b[39;00m \u001b[38;5;21;01merror\u001b[39;00m\n",
      "\u001b[1;31mHTTPCallErrorError\u001b[0m: HTTPCallErrorError(description='400 Client Error: Bad Request for url: http://localhost:9001/vehicle-detection-bpir9/workflows/vehicle-identification-numbers', api_message='Failed to assemble `image`. Could not successfully use any deserializer for declared kinds. Details: \nKind: `image` - Error: Detected runtime parameter `image` defined as `WorkflowImage` that is invalid. Failed on input validation. Details: NumPy image type is not supported in this configuration of `inference`.. More details: None',status_code=400)"
     ]
    }
   ],
   "source": [
    "result = get_verification_numbers('verification_numbers.jpg')"
   ]
  },
  {
   "cell_type": "code",
   "execution_count": 7,
   "metadata": {},
   "outputs": [
    {
     "data": {
      "text/plain": [
       "('3ZZ-40760431598', 'ZZE121-8003692')"
      ]
     },
     "execution_count": 7,
     "metadata": {},
     "output_type": "execute_result"
    }
   ],
   "source": [
    "result"
   ]
  },
  {
   "cell_type": "code",
   "execution_count": null,
   "metadata": {},
   "outputs": [],
   "source": []
  }
 ],
 "metadata": {
  "kernelspec": {
   "display_name": "Python 3",
   "language": "python",
   "name": "python3"
  },
  "language_info": {
   "codemirror_mode": {
    "name": "ipython",
    "version": 3
   },
   "file_extension": ".py",
   "mimetype": "text/x-python",
   "name": "python",
   "nbconvert_exporter": "python",
   "pygments_lexer": "ipython3",
   "version": "3.12.8"
  }
 },
 "nbformat": 4,
 "nbformat_minor": 2
}
